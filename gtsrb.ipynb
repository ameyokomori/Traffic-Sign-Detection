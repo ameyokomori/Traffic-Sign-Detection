{
 "cells": [
  {
   "cell_type": "code",
   "execution_count": 1,
   "metadata": {},
   "outputs": [
    {
     "name": "stderr",
     "output_type": "stream",
     "text": [
      "Using TensorFlow backend.\n"
     ]
    }
   ],
   "source": [
    "import keras\n",
    "from keras.preprocessing.image import ImageDataGenerator\n",
    "from keras.models import Sequential\n",
    "from keras.layers import Dense, Dropout, Activation, Flatten\n",
    "from keras.layers import Conv2D, MaxPooling2D, GlobalMaxPooling2D\n",
    "from keras.layers.normalization import BatchNormalization\n",
    "from keras.optimizers import SGD, RMSprop\n",
    "from keras.preprocessing import image\n",
    "from keras.preprocessing.image import load_img\n",
    "from keras.callbacks import TensorBoard, EarlyStopping, ModelCheckpoint, ReduceLROnPlateau, CSVLogger\n",
    "from keras.utils import plot_model\n",
    "\n",
    "import pandas as pd\n",
    "import numpy as np\n",
    "import matplotlib.pyplot as plt\n",
    "\n",
    "import tensorflow as tf\n",
    "from keras import backend as K\n",
    "\n",
    "K.clear_session()"
   ]
  },
  {
   "cell_type": "code",
   "execution_count": 2,
   "metadata": {},
   "outputs": [],
   "source": [
    "img_weight, img_height = 32, 32\n",
    "channel = 3\n",
    "num_classes = 43\n",
    "batch_size = 32\n",
    "nb_epoch = 200"
   ]
  },
  {
   "cell_type": "code",
   "execution_count": 3,
   "metadata": {},
   "outputs": [],
   "source": [
    "X_train = 'data/GTSRB/Train_png/'\n",
    "X_valid = 'data/GTSRB/Test_png/'"
   ]
  },
  {
   "cell_type": "code",
   "execution_count": 33,
   "metadata": {},
   "outputs": [],
   "source": [
    "class_names = pd.read_csv('data/GTSRB/classes.txt').class_name.values"
   ]
  },
  {
   "cell_type": "code",
   "execution_count": 5,
   "metadata": {},
   "outputs": [
    {
     "name": "stdout",
     "output_type": "stream",
     "text": [
      "Found 39209 images belonging to 43 classes.\n",
      "Found 12630 images belonging to 43 classes.\n"
     ]
    }
   ],
   "source": [
    "train_datagen = ImageDataGenerator(\n",
    "    rescale=1. / 255)\n",
    "\n",
    "test_datagen = ImageDataGenerator(rescale=1. / 255)\n",
    "\n",
    "train_generator = train_datagen.flow_from_directory(\n",
    "    X_train,\n",
    "    target_size=(img_weight, img_height),\n",
    "    batch_size=batch_size,\n",
    "    class_mode='categorical')\n",
    "\n",
    "validation_generator = test_datagen.flow_from_directory(\n",
    "    X_valid,\n",
    "    target_size=(img_weight, img_height),\n",
    "    batch_size=batch_size,\n",
    "    class_mode='categorical')\n",
    "\n",
    "nb_train_samples = len(train_generator.filenames)\n",
    "nb_validation_samples = len(validation_generator.filenames)"
   ]
  },
  {
   "cell_type": "code",
   "execution_count": 6,
   "metadata": {},
   "outputs": [],
   "source": [
    "model = Sequential()\n",
    "\n",
    "model.add(Conv2D(filters=32, kernel_size=(3, 3), padding='same', input_shape=(32, 32, 3)))\n",
    "model.add(Activation('relu'))\n",
    "model.add(Conv2D(filters=32, kernel_size=(3, 3)))\n",
    "model.add(Activation('relu'))\n",
    "model.add(MaxPooling2D(pool_size=(2, 2)))\n",
    "model.add(Dropout(0.1))\n",
    "\n",
    "model.add(Conv2D(64, (3, 3), padding='same'))\n",
    "model.add(Activation('relu'))\n",
    "model.add(Conv2D(64, (3, 3)))\n",
    "model.add(Activation('relu'))\n",
    "model.add(MaxPooling2D(pool_size=(2, 2)))\n",
    "model.add(Dropout(0.25))\n",
    "\n",
    "model.add(Conv2D(128, (3, 3), padding='same'))\n",
    "model.add(Activation('relu'))\n",
    "model.add(Conv2D(128, (3, 3)))\n",
    "model.add(Activation('relu'))\n",
    "model.add(MaxPooling2D(pool_size=(2, 2)))\n",
    "model.add(Dropout(0.5))\n",
    "\n",
    "model.add(Flatten())\n",
    "model.add(Dense(256))\n",
    "model.add(BatchNormalization())\n",
    "model.add(Activation('relu'))\n",
    "model.add(Dropout(0.5))\n",
    "model.add(Dense(43))\n",
    "model.add(BatchNormalization())\n",
    "model.add(Activation('softmax'))"
   ]
  },
  {
   "cell_type": "code",
   "execution_count": 7,
   "metadata": {},
   "outputs": [],
   "source": [
    "plot_model(model,to_file='model_gtsrb.png')"
   ]
  },
  {
   "cell_type": "code",
   "execution_count": 8,
   "metadata": {},
   "outputs": [],
   "source": [
    "opt = keras.optimizers.Adam(lr=0.001, \n",
    "                            beta_1=0.9, \n",
    "                            beta_2=0.999, \n",
    "                            epsilon=10e-8, \n",
    "                            decay=0.0)"
   ]
  },
  {
   "cell_type": "code",
   "execution_count": 9,
   "metadata": {},
   "outputs": [],
   "source": [
    "model.compile(loss='categorical_crossentropy', optimizer=opt, metrics=['accuracy'])"
   ]
  },
  {
   "cell_type": "code",
   "execution_count": 10,
   "metadata": {},
   "outputs": [],
   "source": [
    "reduce_lr = ReduceLROnPlateau(monitor='val_loss', \n",
    "                              factor=0.1, \n",
    "                              patience=10, \n",
    "                              verbose=1, \n",
    "                              mode='auto', \n",
    "                              min_delta=0.0001, \n",
    "                              cooldown=0, \n",
    "                              min_lr=0.00001)\n",
    "\n",
    "model_checkpoing = ModelCheckpoint(filepath='./gtsrb_models/epoch-{epoch:02d}_loss-{loss:.4f}_val_loss-{val_loss:.4f}.h5', \n",
    "                                   monitor='val_loss', \n",
    "                                   verbose=0, \n",
    "                                   save_best_only=True, \n",
    "                                   save_weights_only=False, \n",
    "                                   mode='auto', \n",
    "                                   period=1)\n",
    "\n",
    "earlystop = EarlyStopping(monitor='val_loss', \n",
    "                          patience=20, \n",
    "                          verbose=1, \n",
    "                          mode='auto')\n",
    "\n",
    "csv_logger = CSVLogger(filename='gtsrb_training_log.csv',\n",
    "                       separator=',',\n",
    "                       append=True)\n",
    "\n",
    "tensorboard = TensorBoard(log_dir='./logs_gtsrb',\n",
    "                histogram_freq=0,\n",
    "                batch_size=64,\n",
    "                write_graph=True,\n",
    "                write_grads=False,\n",
    "                write_images=True,\n",
    "                embeddings_freq=0, \n",
    "                embeddings_layer_names=None, \n",
    "                embeddings_metadata=None)\n",
    "\n",
    "callbacks = [reduce_lr,\n",
    "             model_checkpoing,\n",
    "             earlystop,\n",
    "             csv_logger,\n",
    "             tensorboard]"
   ]
  },
  {
   "cell_type": "code",
   "execution_count": 11,
   "metadata": {},
   "outputs": [
    {
     "name": "stderr",
     "output_type": "stream",
     "text": [
      "/home/ubuntu/anaconda3/envs/tensorflow_p36/lib/python3.6/site-packages/ipykernel_launcher.py:8: UserWarning: The semantics of the Keras 2 argument `steps_per_epoch` is not the same as the Keras 1 argument `samples_per_epoch`. `steps_per_epoch` is the number of batches to draw from the generator at each epoch. Basically steps_per_epoch = samples_per_epoch/batch_size. Similarly `nb_val_samples`->`validation_steps` and `val_samples`->`steps` arguments have changed. Update your method calls accordingly.\n",
      "  \n",
      "/home/ubuntu/anaconda3/envs/tensorflow_p36/lib/python3.6/site-packages/ipykernel_launcher.py:8: UserWarning: Update your `fit_generator` call to the Keras 2 API: `fit_generator(<keras_pre..., steps_per_epoch=1225, shuffle=True, verbose=1, validation_data=<keras_pre..., validation_steps=394, callbacks=[<keras.ca..., epochs=200)`\n",
      "  \n"
     ]
    },
    {
     "name": "stdout",
     "output_type": "stream",
     "text": [
      "Epoch 1/200\n",
      "1225/1225 [==============================] - 26s 21ms/step - loss: 2.0928 - acc: 0.4803 - val_loss: 0.4694 - val_acc: 0.9174\n",
      "Epoch 2/200\n",
      "1225/1225 [==============================] - 24s 20ms/step - loss: 0.5566 - acc: 0.8999 - val_loss: 0.1780 - val_acc: 0.9672\n",
      "Epoch 3/200\n",
      "1225/1225 [==============================] - 23s 19ms/step - loss: 0.2915 - acc: 0.9561 - val_loss: 0.1255 - val_acc: 0.9766\n",
      "Epoch 4/200\n",
      "1225/1225 [==============================] - 24s 19ms/step - loss: 0.1778 - acc: 0.9769 - val_loss: 0.1175 - val_acc: 0.9745\n",
      "Epoch 5/200\n",
      "1225/1225 [==============================] - 24s 19ms/step - loss: 0.1234 - acc: 0.9829 - val_loss: 0.0978 - val_acc: 0.9806\n",
      "Epoch 6/200\n",
      "1225/1225 [==============================] - 24s 20ms/step - loss: 0.0956 - acc: 0.9861 - val_loss: 0.0779 - val_acc: 0.9831\n",
      "Epoch 7/200\n",
      "1225/1225 [==============================] - 23s 19ms/step - loss: 0.0750 - acc: 0.9886 - val_loss: 0.0822 - val_acc: 0.9817\n",
      "Epoch 8/200\n",
      "1225/1225 [==============================] - 24s 20ms/step - loss: 0.0586 - acc: 0.9913 - val_loss: 0.0912 - val_acc: 0.9798\n",
      "Epoch 9/200\n",
      "1225/1225 [==============================] - 24s 19ms/step - loss: 0.0521 - acc: 0.9914 - val_loss: 0.0783 - val_acc: 0.9825\n",
      "Epoch 10/200\n",
      "1225/1225 [==============================] - 24s 20ms/step - loss: 0.0449 - acc: 0.9929 - val_loss: 0.0729 - val_acc: 0.9827\n",
      "Epoch 11/200\n",
      "1225/1225 [==============================] - 24s 19ms/step - loss: 0.0373 - acc: 0.9942 - val_loss: 0.0837 - val_acc: 0.9812\n",
      "Epoch 12/200\n",
      "1225/1225 [==============================] - 24s 19ms/step - loss: 0.0356 - acc: 0.9940 - val_loss: 0.0748 - val_acc: 0.9844\n",
      "Epoch 13/200\n",
      "1225/1225 [==============================] - 24s 19ms/step - loss: 0.0331 - acc: 0.9941 - val_loss: 0.0937 - val_acc: 0.9823\n",
      "Epoch 14/200\n",
      "1225/1225 [==============================] - 24s 19ms/step - loss: 0.0271 - acc: 0.9954 - val_loss: 0.0908 - val_acc: 0.9798\n",
      "Epoch 15/200\n",
      "1225/1225 [==============================] - 23s 19ms/step - loss: 0.0261 - acc: 0.9952 - val_loss: 0.0663 - val_acc: 0.9855\n",
      "Epoch 16/200\n",
      "1225/1225 [==============================] - 24s 19ms/step - loss: 0.0234 - acc: 0.9957 - val_loss: 0.0545 - val_acc: 0.9879\n",
      "Epoch 17/200\n",
      "1225/1225 [==============================] - 24s 19ms/step - loss: 0.0252 - acc: 0.9951 - val_loss: 0.0775 - val_acc: 0.9820\n",
      "Epoch 18/200\n",
      "1225/1225 [==============================] - 24s 20ms/step - loss: 0.0209 - acc: 0.9960 - val_loss: 0.0640 - val_acc: 0.9856\n",
      "Epoch 19/200\n",
      "1225/1225 [==============================] - 24s 19ms/step - loss: 0.0227 - acc: 0.9956 - val_loss: 0.0831 - val_acc: 0.9824\n",
      "Epoch 20/200\n",
      "1225/1225 [==============================] - 24s 20ms/step - loss: 0.0179 - acc: 0.9968 - val_loss: 0.0763 - val_acc: 0.9837\n",
      "Epoch 21/200\n",
      "1225/1225 [==============================] - 24s 20ms/step - loss: 0.0158 - acc: 0.9970 - val_loss: 0.0886 - val_acc: 0.9818\n",
      "Epoch 22/200\n",
      "1225/1225 [==============================] - 24s 19ms/step - loss: 0.0183 - acc: 0.9963 - val_loss: 0.0686 - val_acc: 0.9840\n",
      "Epoch 23/200\n",
      "1225/1225 [==============================] - 24s 19ms/step - loss: 0.0138 - acc: 0.9976 - val_loss: 0.0971 - val_acc: 0.9762\n",
      "Epoch 24/200\n",
      "1225/1225 [==============================] - 24s 19ms/step - loss: 0.0190 - acc: 0.9961 - val_loss: 0.0761 - val_acc: 0.9843\n",
      "Epoch 25/200\n",
      "1225/1225 [==============================] - 24s 19ms/step - loss: 0.0135 - acc: 0.9976 - val_loss: 0.0680 - val_acc: 0.9859\n",
      "Epoch 26/200\n",
      "1225/1225 [==============================] - 24s 20ms/step - loss: 0.0137 - acc: 0.9972 - val_loss: 0.0759 - val_acc: 0.9812\n",
      "\n",
      "Epoch 00026: ReduceLROnPlateau reducing learning rate to 0.00010000000474974513.\n",
      "Epoch 27/200\n",
      "1225/1225 [==============================] - 24s 19ms/step - loss: 0.0104 - acc: 0.9982 - val_loss: 0.0693 - val_acc: 0.9817\n",
      "Epoch 28/200\n",
      "1225/1225 [==============================] - 24s 20ms/step - loss: 0.0068 - acc: 0.9988 - val_loss: 0.0746 - val_acc: 0.9822\n",
      "Epoch 29/200\n",
      "1225/1225 [==============================] - 24s 20ms/step - loss: 0.0064 - acc: 0.9988 - val_loss: 0.0675 - val_acc: 0.9833\n",
      "Epoch 30/200\n",
      "1225/1225 [==============================] - 24s 20ms/step - loss: 0.0050 - acc: 0.9994 - val_loss: 0.0722 - val_acc: 0.9839\n",
      "Epoch 31/200\n",
      "1225/1225 [==============================] - 24s 19ms/step - loss: 0.0058 - acc: 0.9989 - val_loss: 0.0754 - val_acc: 0.9852\n",
      "Epoch 32/200\n",
      "1225/1225 [==============================] - 24s 19ms/step - loss: 0.0044 - acc: 0.9995 - val_loss: 0.0653 - val_acc: 0.9857\n",
      "Epoch 33/200\n",
      "1225/1225 [==============================] - 24s 19ms/step - loss: 0.0043 - acc: 0.9995 - val_loss: 0.0659 - val_acc: 0.9863\n",
      "Epoch 34/200\n",
      "1225/1225 [==============================] - 24s 20ms/step - loss: 0.0043 - acc: 0.9993 - val_loss: 0.0588 - val_acc: 0.9867\n",
      "Epoch 35/200\n",
      "1225/1225 [==============================] - 24s 19ms/step - loss: 0.0037 - acc: 0.9994 - val_loss: 0.0631 - val_acc: 0.9856\n",
      "Epoch 36/200\n",
      "1225/1225 [==============================] - 24s 20ms/step - loss: 0.0035 - acc: 0.9996 - val_loss: 0.0652 - val_acc: 0.9867\n",
      "\n",
      "Epoch 00036: ReduceLROnPlateau reducing learning rate to 1.0000000474974514e-05.\n",
      "Epoch 00036: early stopping\n"
     ]
    }
   ],
   "source": [
    "history = model.fit_generator(train_generator,\n",
    "                    steps_per_epoch=nb_train_samples // batch_size, \n",
    "                    nb_epoch=nb_epoch,\n",
    "                    shuffle=True,\n",
    "                    verbose=1,\n",
    "                    validation_data=validation_generator, \n",
    "                    validation_steps=nb_validation_samples // batch_size,\n",
    "                    callbacks=callbacks)"
   ]
  },
  {
   "cell_type": "code",
   "execution_count": 12,
   "metadata": {},
   "outputs": [
    {
     "data": {
      "image/png": "[encoded data removed]",
      "text/plain": [
       "<Figure size 432x288 with 1 Axes>"
      ]
     },
     "metadata": {},
     "output_type": "display_data"
    }
   ],
   "source": [
    "fig = plt.figure()\n",
    "plt.plot(history.history['acc'])\n",
    "plt.plot(history.history['val_acc'])\n",
    "plt.title('model accuracy')\n",
    "plt.ylabel('accuracy')\n",
    "plt.xlabel('epoch')\n",
    "plt.legend(['train', 'test'], loc='upper right')\n",
    "#\n",
    "fig.savefig('accuracy_sgd.png')"
   ]
  },
  {
   "cell_type": "code",
   "execution_count": 13,
   "metadata": {},
   "outputs": [
    {
     "data": {
      "image/png": "[encoded data removed]",
      "text/plain": [
       "<Figure size 432x288 with 1 Axes>"
      ]
     },
     "metadata": {},
     "output_type": "display_data"
    }
   ],
   "source": [
    "fig = plt.figure()\n",
    "plt.plot(history.history['loss'])\n",
    "plt.plot(history.history['val_loss'])\n",
    "plt.title('model loss')\n",
    "plt.ylabel('loss')\n",
    "plt.xlabel('epoch')\n",
    "plt.legend(['train', 'test'], loc='lower right')\n",
    "#\n",
    "fig.savefig('loss_sgd.png')"
   ]
  },
  {
   "cell_type": "code",
   "execution_count": 35,
   "metadata": {},
   "outputs": [
    {
     "name": "stdout",
     "output_type": "stream",
     "text": [
      "Found 12630 images belonging to 43 classes.\n"
     ]
    }
   ],
   "source": [
    "predict_generator = test_datagen.flow_from_directory(\n",
    "                        X_valid,\n",
    "                        target_size=(img_weight, img_height),\n",
    "                        batch_size=1,\n",
    "                        class_mode='categorical')"
   ]
  },
  {
   "cell_type": "code",
   "execution_count": 39,
   "metadata": {},
   "outputs": [
    {
     "data": {
      "image/png": "[encoded data removed]",
      "text/plain": [
       "<Figure size 432x288 with 1 Axes>"
      ]
     },
     "metadata": {},
     "output_type": "display_data"
    }
   ],
   "source": [
    "def predict_one(model):\n",
    "    image_batch, classes_batch = next(predict_generator)\n",
    "    predicted_batch = model.predict(image_batch)\n",
    "    for k in range(0, image_batch.shape[0]):\n",
    "        image = image_batch[k]\n",
    "        pred = predicted_batch[k]\n",
    "        the_pred = np.argmax(pred)\n",
    "        predicted = class_names[the_pred]\n",
    "        val_pred = max(pred)\n",
    "        the_class = np.argmax(classes_batch[k])\n",
    "        value = class_names[np.argmax(classes_batch[k])]\n",
    "        plt.figure(k)\n",
    "        isTrue = (the_pred == the_class)\n",
    "        plt.title(str(isTrue) + ' - class: ' + value + ' - ' + 'predicted: ' + predicted + ' [' + str(val_pred) + '%]')\n",
    "        plt.imshow(image)\n",
    "predict_one(model)"
   ]
  },
  {
   "cell_type": "code",
   "execution_count": null,
   "metadata": {},
   "outputs": [],
   "source": []
  }
 ],
 "metadata": {
  "kernelspec": {
   "display_name": "Python 3",
   "language": "python",
   "name": "python3"
  },
  "language_info": {
   "codemirror_mode": {
    "name": "ipython",
    "version": 3
   },
   "file_extension": ".py",
   "mimetype": "text/x-python",
   "name": "python",
   "nbconvert_exporter": "python",
   "pygments_lexer": "ipython3",
   "version": "3.6.5"
  }
 },
 "nbformat": 4,
 "nbformat_minor": 2
}
