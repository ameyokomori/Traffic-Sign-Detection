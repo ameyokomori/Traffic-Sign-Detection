{
 "cells": [
  {
   "cell_type": "code",
   "execution_count": 1,
   "metadata": {},
   "outputs": [
    {
     "name": "stderr",
     "output_type": "stream",
     "text": [
      "Using TensorFlow backend.\n"
     ]
    }
   ],
   "source": [
    "from keras.models import load_model\n",
    "\n",
    "from imageio import imread\n",
    "import numpy as np\n",
    "import pandas as pd\n",
    "import cv2\n",
    "from matplotlib import pyplot as plt\n",
    "import seaborn as sns\n",
    "\n",
    "from keras import backend as K\n",
    "from keras_layers.keras_layer_AnchorBoxes import AnchorBoxes\n",
    "from keras_layers.keras_layer_DecodeDetections import DecodeDetections\n",
    "from keras_layers.keras_layer_DecodeDetectionsFast import DecodeDetectionsFast\n",
    "from keras_layers.keras_layer_L2Normalization import L2Normalization\n",
    "\n",
    "from keras.optimizers import Adam, SGD\n",
    "from models.keras_ssd300 import ssd_300\n",
    "from models.keras_ssd7 import build_model\n",
    "from keras_loss_function.keras_ssd_loss import SSDLoss\n",
    "from ssd_encoder_decoder.ssd_input_encoder import SSDInputEncoder\n",
    "from ssd_encoder_decoder.ssd_output_decoder import decode_detections, decode_detections_fast\n",
    "\n",
    "from data_generator.object_detection_2d_data_generator import DataGenerator\n",
    "from data_generator.object_detection_2d_misc_utils import apply_inverse_transforms\n",
    "from data_generator.object_detection_2d_geometric_ops import Resize\n",
    "from data_generator.data_augmentation_chain_variable_input_size import DataAugmentationVariableInputSize\n",
    "from data_generator.data_augmentation_chain_constant_input_size import DataAugmentationConstantInputSize\n",
    "from data_generator.data_augmentation_chain_original_ssd import SSDDataAugmentation\n",
    "\n",
    "from eval_utils.average_precision_evaluator import Evaluator\n",
    "\n",
    "# TODO: Specify the directory that contains the `pycocotools` here.\n",
    "# pycocotools_dir = 'cocoapi/PythonAPI/'\n",
    "# if pycocotools_dir not in sys.path:\n",
    "#     sys.path.insert(0, pycocotools_dir)\n",
    "\n",
    "# from pycocotools.coco import COCO\n",
    "# from pycocotools.cocoeval import COCOeval\n",
    "\n",
    "# from eval_utils.coco_utils import get_coco_category_maps, predict_all_to_json\n",
    "\n",
    "from tensorflow import Graph\n",
    "%matplotlib inline\n",
    "sns.set()"
   ]
  },
  {
   "cell_type": "code",
   "execution_count": 2,
   "metadata": {},
   "outputs": [],
   "source": [
    "# Set a few configuration parameters.\n",
    "# img_height = 300\n",
    "# img_width = 400\n",
    "# n_classes = 43\n",
    "model_mode = 'inference'"
   ]
  },
  {
   "cell_type": "code",
   "execution_count": 8,
   "metadata": {},
   "outputs": [
    {
     "name": "stdout",
     "output_type": "stream",
     "text": [
      "Number of images in the training dataset:\t   666\n",
      "Number of images in the validation dataset:\t    75\n"
     ]
    }
   ],
   "source": [
    "train_dataset = DataGenerator(load_images_into_memory=False, hdf5_dataset_path=None)\n",
    "val_dataset = DataGenerator(load_images_into_memory=False, hdf5_dataset_path=None)\n",
    "dataset = DataGenerator()\n",
    "\n",
    "# Images\n",
    "images_dir = 'data/Full/'\n",
    "\n",
    "# Ground truth\n",
    "train_labels_filename = 'data/train.txt'\n",
    "val_labels_filename   = 'data/test.txt'\n",
    "\n",
    "train_dataset.parse_csv(images_dir=images_dir,\n",
    "                        labels_filename=train_labels_filename,\n",
    "                        input_format=['image_name', 'xmin', 'ymin', 'xmax', 'ymax', 'class_id'], # This is the order of the first six columns in the CSV file that contains the labels for your dataset. If your labels are in XML format, maybe the XML parser will be helpful, check the documentation.\n",
    "                        include_classes='all')\n",
    "\n",
    "val_dataset.parse_csv(images_dir=images_dir,\n",
    "                      labels_filename=val_labels_filename,\n",
    "                      input_format=['image_name', 'xmin', 'ymin', 'xmax', 'ymax', 'class_id'],\n",
    "                      include_classes='all')\n",
    "\n",
    "# classes = ['background',\n",
    "#            '0', '1', '2', '3',\n",
    "#            '4', '5', '6', '7',\n",
    "#            '8', '9', '10', '11', '12', '13',\n",
    "#            '14', '15', '16', '17',\n",
    "#            '18', '19', '20', '21', '22', '23',\n",
    "#            '24', '25', '26', '27',\n",
    "#            '28', '29', '30', '31', '32', '33',\n",
    "#            '34', '35', '36', '37',\n",
    "#            '38', '39', '40', '41', '42']\n",
    "\n",
    "# # TODO: Set the paths to the dataset here.\n",
    "# Pascal_VOC_dataset_images_dir = 'data/Full/'\n",
    "# Pascal_VOC_dataset_annotations_dir = 'data/voc/'\n",
    "# Pascal_VOC_dataset_image_set_filename = 'data/main/main2.txt'\n",
    "\n",
    "# dataset.parse_xml(images_dirs=[Pascal_VOC_dataset_images_dir],\n",
    "#                   image_set_filenames=[Pascal_VOC_dataset_image_set_filename],\n",
    "#                   annotations_dirs=[Pascal_VOC_dataset_annotations_dir],\n",
    "#                   classes=classes,\n",
    "#                   include_classes='all',\n",
    "#                   exclude_truncated=False,\n",
    "#                   exclude_difficult=False,\n",
    "#                   ret=False)\n",
    "\n",
    "# Get the number of samples in the training and validations datasets.\n",
    "train_dataset_size = train_dataset.get_dataset_size()\n",
    "val_dataset_size   = val_dataset.get_dataset_size()\n",
    "\n",
    "print(\"Number of images in the training dataset:\\t{:>6}\".format(train_dataset_size))\n",
    "print(\"Number of images in the validation dataset:\\t{:>6}\".format(val_dataset_size))"
   ]
  },
  {
   "cell_type": "code",
   "execution_count": 7,
   "metadata": {},
   "outputs": [
    {
     "ename": "NameError",
     "evalue": "name 'train_dataset_size' is not defined",
     "output_type": "error",
     "traceback": [
      "\u001b[1;31m---------------------------------------------------------------------------\u001b[0m",
      "\u001b[1;31mNameError\u001b[0m                                 Traceback (most recent call last)",
      "\u001b[1;32m<ipython-input-7-28581b870d15>\u001b[0m in \u001b[0;36m<module>\u001b[1;34m\u001b[0m\n\u001b[1;32m----> 1\u001b[1;33m \u001b[0mtrain_dataset_size\u001b[0m\u001b[1;33m\u001b[0m\u001b[0m\n\u001b[0m",
      "\u001b[1;31mNameError\u001b[0m: name 'train_dataset_size' is not defined"
     ]
    }
   ],
   "source": [
    "train_dataset_size"
   ]
  },
  {
   "cell_type": "code",
   "execution_count": 4,
   "metadata": {},
   "outputs": [],
   "source": [
    "classes = pd.read_csv('data/classes.txt')\n",
    "all_labels = pd.read_csv('data/gt.txt', sep=';')\n",
    "train_labels = pd.read_csv(train_labels_filename, sep=';')\n",
    "val_labels = pd.read_csv(val_labels_filename, sep=';')"
   ]
  },
  {
   "cell_type": "code",
   "execution_count": 5,
   "metadata": {},
   "outputs": [
    {
     "name": "stdout",
     "output_type": "stream",
     "text": [
      "<class 'pandas.core.frame.DataFrame'>\n",
      "RangeIndex: 1213 entries, 0 to 1212\n",
      "Data columns (total 6 columns):\n",
      "image_name    1213 non-null object\n",
      "xmin          1213 non-null int64\n",
      "xmax          1213 non-null int64\n",
      "ymin          1213 non-null int64\n",
      "ymax          1213 non-null int64\n",
      "class_id      1213 non-null int64\n",
      "dtypes: int64(5), object(1)\n",
      "memory usage: 56.9+ KB\n",
      "None\n"
     ]
    }
   ],
   "source": [
    "print(all_labels.info())"
   ]
  },
  {
   "cell_type": "code",
   "execution_count": 16,
   "metadata": {},
   "outputs": [
    {
     "name": "stdout",
     "output_type": "stream",
     "text": [
      "<class 'pandas.core.frame.DataFrame'>\n",
      "Index: 741 entries, 00000.ppm to 00899.ppm\n",
      "Data columns (total 5 columns):\n",
      "xmin        741 non-null int64\n",
      "xmax        741 non-null int64\n",
      "ymin        741 non-null int64\n",
      "ymax        741 non-null int64\n",
      "class_id    741 non-null int64\n",
      "dtypes: int64(5)\n",
      "memory usage: 34.7+ KB\n"
     ]
    }
   ],
   "source": [
    "all_labels.groupby(['image_name']).count().info()"
   ]
  },
  {
   "cell_type": "code",
   "execution_count": 7,
   "metadata": {},
   "outputs": [
    {
     "data": {
      "text/html": [
       "<div>\n",
       "<style scoped>\n",
       "    .dataframe tbody tr th:only-of-type {\n",
       "        vertical-align: middle;\n",
       "    }\n",
       "\n",
       "    .dataframe tbody tr th {\n",
       "        vertical-align: top;\n",
       "    }\n",
       "\n",
       "    .dataframe thead th {\n",
       "        text-align: right;\n",
       "    }\n",
       "</style>\n",
       "<table border=\"1\" class=\"dataframe\">\n",
       "  <thead>\n",
       "    <tr style=\"text-align: right;\">\n",
       "      <th></th>\n",
       "      <th>image_name</th>\n",
       "      <th>xmin</th>\n",
       "      <th>xmax</th>\n",
       "      <th>ymin</th>\n",
       "      <th>ymax</th>\n",
       "      <th>class_id</th>\n",
       "    </tr>\n",
       "  </thead>\n",
       "  <tbody>\n",
       "    <tr>\n",
       "      <th>0</th>\n",
       "      <td>00000.ppm</td>\n",
       "      <td>774</td>\n",
       "      <td>411</td>\n",
       "      <td>815</td>\n",
       "      <td>446</td>\n",
       "      <td>11</td>\n",
       "    </tr>\n",
       "    <tr>\n",
       "      <th>1</th>\n",
       "      <td>00001.ppm</td>\n",
       "      <td>983</td>\n",
       "      <td>388</td>\n",
       "      <td>1024</td>\n",
       "      <td>432</td>\n",
       "      <td>40</td>\n",
       "    </tr>\n",
       "    <tr>\n",
       "      <th>2</th>\n",
       "      <td>00001.ppm</td>\n",
       "      <td>386</td>\n",
       "      <td>494</td>\n",
       "      <td>442</td>\n",
       "      <td>552</td>\n",
       "      <td>38</td>\n",
       "    </tr>\n",
       "    <tr>\n",
       "      <th>3</th>\n",
       "      <td>00001.ppm</td>\n",
       "      <td>973</td>\n",
       "      <td>335</td>\n",
       "      <td>1031</td>\n",
       "      <td>390</td>\n",
       "      <td>13</td>\n",
       "    </tr>\n",
       "    <tr>\n",
       "      <th>4</th>\n",
       "      <td>00002.ppm</td>\n",
       "      <td>892</td>\n",
       "      <td>476</td>\n",
       "      <td>1006</td>\n",
       "      <td>592</td>\n",
       "      <td>39</td>\n",
       "    </tr>\n",
       "  </tbody>\n",
       "</table>\n",
       "</div>"
      ],
      "text/plain": [
       "  image_name  xmin  xmax  ymin  ymax  class_id\n",
       "0  00000.ppm   774   411   815   446        11\n",
       "1  00001.ppm   983   388  1024   432        40\n",
       "2  00001.ppm   386   494   442   552        38\n",
       "3  00001.ppm   973   335  1031   390        13\n",
       "4  00002.ppm   892   476  1006   592        39"
      ]
     },
     "execution_count": 7,
     "metadata": {},
     "output_type": "execute_result"
    }
   ],
   "source": [
    "all_labels.head()"
   ]
  },
  {
   "cell_type": "code",
   "execution_count": 8,
   "metadata": {},
   "outputs": [
    {
     "data": {
      "image/png": "[encoded data removed]",
      "text/plain": [
       "<Figure size 1440x864 with 1 Axes>"
      ]
     },
     "metadata": {
      "needs_background": "light"
     },
     "output_type": "display_data"
    }
   ],
   "source": [
    "c = train_labels.groupby('class_id').count()\n",
    "np.array(c.index)\n",
    "np.array(c.image_name)\n",
    "fig = plt.figure(figsize=(20,12))\n",
    "sns.barplot(x=np.array(c.index), y=np.array(c.image_name), color='b')\n",
    "plt.show()"
   ]
  },
  {
   "cell_type": "code",
   "execution_count": 9,
   "metadata": {},
   "outputs": [
    {
     "data": {
      "text/plain": [
       "1213"
      ]
     },
     "execution_count": 9,
     "metadata": {},
     "output_type": "execute_result"
    }
   ],
   "source": [
    "all_labels.class_id.count()"
   ]
  },
  {
   "cell_type": "code",
   "execution_count": 10,
   "metadata": {},
   "outputs": [
    {
     "data": {
      "text/plain": [
       "0                             speed limit 20\n",
       "1                             speed limit 30\n",
       "2                             speed limit 50\n",
       "3                             speed limit 60\n",
       "4                             speed limit 70\n",
       "5                             speed limit 80\n",
       "6                        restriction ends 80\n",
       "7                            speed limit 100\n",
       "8                            speed limit 120\n",
       "9                              no overtaking\n",
       "10                    no overtaking (trucks)\n",
       "11             priority at next intersection\n",
       "12                             priority road\n",
       "13                                  give way\n",
       "14                                      stop\n",
       "15                      no traffic both ways\n",
       "16                                 no trucks\n",
       "17                                  no entry\n",
       "18                                    danger\n",
       "19                                 bend left\n",
       "20                                bend right\n",
       "21                                      bend\n",
       "22                               uneven road\n",
       "23                             slippery road\n",
       "24                              road narrows\n",
       "25                              construction\n",
       "26                            traffic signal\n",
       "27                       pedestrian crossing\n",
       "28                           school crossing\n",
       "29                           cycles crossing\n",
       "30                                      snow\n",
       "31                                   animals\n",
       "32                          restriction ends\n",
       "33                                  go right\n",
       "34                                   go left\n",
       "35                               go straight\n",
       "36                      go right or straight\n",
       "37                       go left or straight\n",
       "38                                keep right\n",
       "39                                 keep left\n",
       "40                                roundabout\n",
       "41             restriction ends (overtaking)\n",
       "42    restriction ends (overtaking (trucks))\n",
       "Name: class_name, dtype: object"
      ]
     },
     "execution_count": 10,
     "metadata": {},
     "output_type": "execute_result"
    }
   ],
   "source": [
    "classes.class_name"
   ]
  },
  {
   "cell_type": "code",
   "execution_count": 9,
   "metadata": {},
   "outputs": [],
   "source": [
    "# 1: Build the Keras model\n",
    "img_height = 400 # Height of the input images\n",
    "img_width = 600 # Width of the input images\n",
    "img_channels = 3 # Number of color channels of the input images\n",
    "n_classes = 43 # Number of positive classes\n",
    "scales = [0.08, 0.16, 0.32, 0.64, 0.96] # An explicit list of anchor box scaling factors. If this is passed, it will override `min_scale` and `max_scale`.\n",
    "aspect_ratios = [0.5, 1.0, 2.0] # The list of aspect ratios for the anchor boxes\n",
    "two_boxes_for_ar1 = True # Whether or not you want to generate two anchor boxes for aspect ratio 1\n",
    "steps = None # In case you'd like to set the step sizes for the anchor box grids manually; not recommended\n",
    "offsets = None # In case you'd like to set the offsets for the anchor box grids manually; not recommended\n",
    "clip_boxes = False # Whether or not to clip the anchor boxes to lie entirely within the image boundaries\n",
    "variances = [1.0, 1.0, 1.0, 1.0] # The list of variances by which the encoded target coordinates are scaled\n",
    "normalize_coords = True # Whether or not the model is supposed to use coordinates relative to the image size\n",
    "\n",
    "# 1: Build the Keras model\n",
    "\n",
    "K.clear_session() # Clear previous models from memory.\n",
    "\n",
    "model = build_model(image_size=(img_height, img_width, img_channels),\n",
    "                    n_classes=n_classes,\n",
    "                    mode='training',\n",
    "                    l2_regularization=0.0005,\n",
    "                    scales=scales,\n",
    "                    aspect_ratios_global=aspect_ratios,\n",
    "                    aspect_ratios_per_layer=None,\n",
    "                    two_boxes_for_ar1=two_boxes_for_ar1,\n",
    "                    steps=steps,\n",
    "                    offsets=offsets,\n",
    "                    clip_boxes=clip_boxes,\n",
    "                    variances=variances,\n",
    "                    normalize_coords=normalize_coords)\n",
    "\n",
    "# 2: Optional: Load some weights\n",
    "\n",
    "# model.load_weights('./ssd7_weights.h5', by_name=True)\n",
    "\n",
    "# 3: Instantiate an Adam optimizer and the SSD loss function and compile the model\n",
    "\n",
    "adam = Adam(lr=0.001, beta_1=0.9, beta_2=0.999, epsilon=1e-08, decay=5e-4)\n",
    "\n",
    "ssd_loss = SSDLoss(neg_pos_ratio=3, alpha=1.0)\n",
    "\n",
    "model.compile(optimizer=adam, loss=ssd_loss.compute_loss, metrics=['accuracy'])"
   ]
  },
  {
   "cell_type": "code",
   "execution_count": 11,
   "metadata": {},
   "outputs": [],
   "source": [
    "ssd_loss = SSDLoss(neg_pos_ratio=3, alpha=1.0)"
   ]
  },
  {
   "cell_type": "code",
   "execution_count": 12,
   "metadata": {},
   "outputs": [],
   "source": [
    "\n",
    "model = load_model('Saved/ssd7_epoch-165_loss-2.4381_val_loss-3.3965.h5', custom_objects={'AnchorBoxes': AnchorBoxes,\n",
    "                                               'L2Normalization': L2Normalization,\n",
    "                                               'DecodeDetections': DecodeDetections,\n",
    "                                               'compute_loss': ssd_loss.compute_loss})"
   ]
  },
  {
   "cell_type": "code",
   "execution_count": 13,
   "metadata": {},
   "outputs": [],
   "source": [
    "# # 1: Set the generator for the predictions.\n",
    "# resize = Resize(height=img_height, width=img_width)\n",
    "\n",
    "# predict_generator = val_dataset.generate(batch_size=val_dataset_size,\n",
    "#                                          shuffle=False,\n",
    "#                                          transformations=[resize],\n",
    "#                                          label_encoder=None,\n",
    "#                                          returns={'processed_images',\n",
    "#                                                     'processed_labels',\n",
    "#                                                     'filenames',\n",
    "#                                                     'original_images',\n",
    "#                                                     'original_labels'},\n",
    "#                                          keep_images_without_gt=False)"
   ]
  },
  {
   "cell_type": "code",
   "execution_count": 14,
   "metadata": {},
   "outputs": [
    {
     "name": "stdout",
     "output_type": "stream",
     "text": [
      "Number of images in the evaluation dataset: 75\n",
      "\n",
      "Producing predictions batch-wise: 100%|██████████████████| 10/10 [01:08<00:00,  5.89s/it]\n",
      "Matching predictions to ground truth, class 1/43.: 100%|█| 14/14 [00:00<00:00, 611.27it/s]\n",
      "No predictions for class 2/43\n",
      "No predictions for class 3/43\n",
      "No predictions for class 4/43\n",
      "No predictions for class 5/43\n",
      "No predictions for class 6/43\n",
      "No predictions for class 7/43\n",
      "No predictions for class 8/43\n",
      "No predictions for class 9/43\n",
      "No predictions for class 10/43\n",
      "No predictions for class 11/43\n",
      "No predictions for class 12/43\n",
      "No predictions for class 13/43\n",
      "No predictions for class 14/43\n",
      "No predictions for class 15/43\n",
      "No predictions for class 16/43\n",
      "No predictions for class 17/43\n",
      "No predictions for class 18/43\n",
      "No predictions for class 19/43\n",
      "No predictions for class 20/43\n",
      "No predictions for class 21/43\n",
      "No predictions for class 22/43\n",
      "No predictions for class 23/43\n",
      "No predictions for class 24/43\n",
      "No predictions for class 25/43\n",
      "No predictions for class 26/43\n",
      "No predictions for class 27/43\n",
      "No predictions for class 28/43\n",
      "No predictions for class 29/43\n",
      "No predictions for class 30/43\n",
      "No predictions for class 31/43\n",
      "No predictions for class 32/43\n",
      "No predictions for class 33/43\n",
      "No predictions for class 34/43\n",
      "No predictions for class 35/43\n",
      "No predictions for class 36/43\n",
      "No predictions for class 37/43\n",
      "No predictions for class 38/43\n",
      "No predictions for class 39/43\n",
      "No predictions for class 40/43\n",
      "No predictions for class 41/43\n",
      "No predictions for class 42/43\n",
      "No predictions for class 43/43\n",
      "Computing precisions and recalls, class 1/43\n",
      "Computing precisions and recalls, class 2/43\n"
     ]
    },
    {
     "ename": "IndexError",
     "evalue": "list index out of range",
     "output_type": "error",
     "traceback": [
      "\u001b[1;31m---------------------------------------------------------------------------\u001b[0m",
      "\u001b[1;31mIndexError\u001b[0m                                Traceback (most recent call last)",
      "\u001b[1;32m<ipython-input-14-0ec7ab86b6ab>\u001b[0m in \u001b[0;36m<module>\u001b[1;34m\u001b[0m\n\u001b[0;32m     18\u001b[0m                     \u001b[0mreturn_recalls\u001b[0m\u001b[1;33m=\u001b[0m\u001b[1;32mTrue\u001b[0m\u001b[1;33m,\u001b[0m\u001b[1;33m\u001b[0m\u001b[0m\n\u001b[0;32m     19\u001b[0m                     \u001b[0mreturn_average_precisions\u001b[0m\u001b[1;33m=\u001b[0m\u001b[1;32mTrue\u001b[0m\u001b[1;33m,\u001b[0m\u001b[1;33m\u001b[0m\u001b[0m\n\u001b[1;32m---> 20\u001b[1;33m                     verbose=True)\n\u001b[0m\u001b[0;32m     21\u001b[0m \u001b[1;33m\u001b[0m\u001b[0m\n\u001b[0;32m     22\u001b[0m \u001b[0mmean_average_precision\u001b[0m\u001b[1;33m,\u001b[0m \u001b[0maverage_precisions\u001b[0m\u001b[1;33m,\u001b[0m \u001b[0mprecisions\u001b[0m\u001b[1;33m,\u001b[0m \u001b[0mrecalls\u001b[0m \u001b[1;33m=\u001b[0m \u001b[0mresults\u001b[0m\u001b[1;33m\u001b[0m\u001b[0m\n",
      "\u001b[1;32m~\\OneDrive\\Programs\\ML\\TrafficSign\\eval_utils\\average_precision_evaluator.py\u001b[0m in \u001b[0;36m__call__\u001b[1;34m(self, img_height, img_width, batch_size, data_generator_mode, round_confidences, matching_iou_threshold, border_pixels, sorting_algorithm, average_precision_mode, num_recall_points, ignore_neutral_boxes, return_precisions, return_recalls, return_average_precisions, verbose, decoding_confidence_thresh, decoding_iou_threshold, decoding_top_k, decoding_pred_coords, decoding_normalize_coords)\u001b[0m\n\u001b[0;32m    224\u001b[0m         \u001b[1;31m#############################################################################################\u001b[0m\u001b[1;33m\u001b[0m\u001b[1;33m\u001b[0m\u001b[0m\n\u001b[0;32m    225\u001b[0m \u001b[1;33m\u001b[0m\u001b[0m\n\u001b[1;32m--> 226\u001b[1;33m         \u001b[0mself\u001b[0m\u001b[1;33m.\u001b[0m\u001b[0mcompute_precision_recall\u001b[0m\u001b[1;33m(\u001b[0m\u001b[0mverbose\u001b[0m\u001b[1;33m=\u001b[0m\u001b[0mverbose\u001b[0m\u001b[1;33m,\u001b[0m \u001b[0mret\u001b[0m\u001b[1;33m=\u001b[0m\u001b[1;32mFalse\u001b[0m\u001b[1;33m)\u001b[0m\u001b[1;33m\u001b[0m\u001b[0m\n\u001b[0m\u001b[0;32m    227\u001b[0m \u001b[1;33m\u001b[0m\u001b[0m\n\u001b[0;32m    228\u001b[0m         \u001b[1;31m#############################################################################################\u001b[0m\u001b[1;33m\u001b[0m\u001b[1;33m\u001b[0m\u001b[0m\n",
      "\u001b[1;32m~\\OneDrive\\Programs\\ML\\TrafficSign\\eval_utils\\average_precision_evaluator.py\u001b[0m in \u001b[0;36mcompute_precision_recall\u001b[1;34m(self, verbose, ret)\u001b[0m\n\u001b[0;32m    765\u001b[0m                 \u001b[0mprint\u001b[0m\u001b[1;33m(\u001b[0m\u001b[1;34m\"Computing precisions and recalls, class {}/{}\"\u001b[0m\u001b[1;33m.\u001b[0m\u001b[0mformat\u001b[0m\u001b[1;33m(\u001b[0m\u001b[0mclass_id\u001b[0m\u001b[1;33m,\u001b[0m \u001b[0mself\u001b[0m\u001b[1;33m.\u001b[0m\u001b[0mn_classes\u001b[0m\u001b[1;33m)\u001b[0m\u001b[1;33m)\u001b[0m\u001b[1;33m\u001b[0m\u001b[0m\n\u001b[0;32m    766\u001b[0m \u001b[1;33m\u001b[0m\u001b[0m\n\u001b[1;32m--> 767\u001b[1;33m             \u001b[0mtp\u001b[0m \u001b[1;33m=\u001b[0m \u001b[0mself\u001b[0m\u001b[1;33m.\u001b[0m\u001b[0mcumulative_true_positives\u001b[0m\u001b[1;33m[\u001b[0m\u001b[0mclass_id\u001b[0m\u001b[1;33m]\u001b[0m\u001b[1;33m\u001b[0m\u001b[0m\n\u001b[0m\u001b[0;32m    768\u001b[0m             \u001b[0mfp\u001b[0m \u001b[1;33m=\u001b[0m \u001b[0mself\u001b[0m\u001b[1;33m.\u001b[0m\u001b[0mcumulative_false_positives\u001b[0m\u001b[1;33m[\u001b[0m\u001b[0mclass_id\u001b[0m\u001b[1;33m]\u001b[0m\u001b[1;33m\u001b[0m\u001b[0m\n\u001b[0;32m    769\u001b[0m \u001b[1;33m\u001b[0m\u001b[0m\n",
      "\u001b[1;31mIndexError\u001b[0m: list index out of range"
     ]
    }
   ],
   "source": [
    "evaluator = Evaluator(model=model,\n",
    "                      n_classes=n_classes,\n",
    "                      data_generator=val_dataset,\n",
    "                      model_mode=model_mode)\n",
    "\n",
    "results = evaluator(img_height=img_height,\n",
    "                    img_width=img_width,\n",
    "                    batch_size=8,\n",
    "                    data_generator_mode='resize',\n",
    "                    round_confidences=False,\n",
    "                    matching_iou_threshold=0.5,\n",
    "                    border_pixels='include',\n",
    "                    sorting_algorithm='quicksort',\n",
    "                    average_precision_mode='sample',\n",
    "                    num_recall_points=11,\n",
    "                    ignore_neutral_boxes=True,\n",
    "                    return_precisions=True,\n",
    "                    return_recalls=True,\n",
    "                    return_average_precisions=True,\n",
    "                    verbose=True)\n",
    "\n",
    "mean_average_precision, average_precisions, precisions, recalls = results"
   ]
  },
  {
   "cell_type": "code",
   "execution_count": null,
   "metadata": {},
   "outputs": [],
   "source": [
    "for i in range(1, len(average_precisions)):\n",
    "    print(\"{:<14}{:<6}{}\".format(classes[i], 'AP', round(average_precisions[i], 3)))\n",
    "print()\n",
    "print(\"{:<14}{:<6}{}\".format('','mAP', round(mean_average_precision, 3)))"
   ]
  },
  {
   "cell_type": "code",
   "execution_count": null,
   "metadata": {},
   "outputs": [],
   "source": [
    "m = max((n_classes) // 2, 2)\n",
    "n = 2\n",
    "\n",
    "fig, cells = plt.subplots(m, n, figsize=(n*8,m*8))\n",
    "for i in range(m):\n",
    "    for j in range(n):\n",
    "        if n*i+j+1 > n_classes: break\n",
    "        cells[i, j].plot(recalls[n*i+j+1], precisions[n*i+j+1], color='blue', linewidth=1.0)\n",
    "        cells[i, j].set_xlabel('recall', fontsize=14)\n",
    "        cells[i, j].set_ylabel('precision', fontsize=14)\n",
    "        cells[i, j].grid(True)\n",
    "        cells[i, j].set_xticks(np.linspace(0,1,11))\n",
    "        cells[i, j].set_yticks(np.linspace(0,1,11))\n",
    "        cells[i, j].set_title(\"{}, AP: {:.3f}\".format(classes[n*i+j+1], average_precisions[n*i+j+1]), fontsize=16)"
   ]
  },
  {
   "cell_type": "code",
   "execution_count": null,
   "metadata": {},
   "outputs": [],
   "source": [
    "# batch_images, batch_labels, batch_filenames, original_images, original_annotations= next(predict_generator)\n",
    "# y_pred = model_ssd300.predict(batch_images)\n",
    "# y_pred_decoded = decode_detections(y_pred,\n",
    "#                                confidence_thresh=0.5,\n",
    "#                                iou_threshold=0.45,\n",
    "#                                top_k=200,\n",
    "#                                normalize_coords=normalize_coords,\n",
    "#                                img_height=img_height,\n",
    "#                                img_width=img_width)\n",
    "\n",
    "# for i in original_annotations[i]:\n",
    "#     y_true = np.array(i[0])\n",
    "# y_true = np.array(original_annotations[0][0][0])\n",
    "# if len(y_pred_decoded[0]) == 0:\n",
    "#     y_pred = np.array(-1)\n",
    "# else:\n",
    "#     for j in y_pred_decoded[i]:\n",
    "#         y_pred = np.array(j[0])\n",
    "        \n",
    "# for i in range(1, val_dataset_size):\n",
    "#     for j in original_annotations[i]:\n",
    "#         y_true = np.hstack((y_true, j[0]))\n",
    "#     if len(y_pred_decoded[i]) == 0:\n",
    "#         y_pred = np.hstack((y_pred, -1))\n",
    "#     else:\n",
    "#         for j in y_pred_decoded[i]:\n",
    "#             y_pred = np.hstack((y_pred, j[0]))\n",
    "    "
   ]
  },
  {
   "cell_type": "code",
   "execution_count": 33,
   "metadata": {},
   "outputs": [],
   "source": [
    "data7 = pd.read_csv('Saved/ssd7_training_log.csv')\n",
    "data300 = pd.read_csv('Saved/ssd300_pascal_07+12_training_log.csv')"
   ]
  },
  {
   "cell_type": "code",
   "execution_count": 34,
   "metadata": {},
   "outputs": [
    {
     "data": {
      "text/html": [
       "<div>\n",
       "<style scoped>\n",
       "    .dataframe tbody tr th:only-of-type {\n",
       "        vertical-align: middle;\n",
       "    }\n",
       "\n",
       "    .dataframe tbody tr th {\n",
       "        vertical-align: top;\n",
       "    }\n",
       "\n",
       "    .dataframe thead th {\n",
       "        text-align: right;\n",
       "    }\n",
       "</style>\n",
       "<table border=\"1\" class=\"dataframe\">\n",
       "  <thead>\n",
       "    <tr style=\"text-align: right;\">\n",
       "      <th></th>\n",
       "      <th>epoch</th>\n",
       "      <th>loss2</th>\n",
       "      <th>val_loss</th>\n",
       "      <th>val_loss2</th>\n",
       "      <th>loss</th>\n",
       "    </tr>\n",
       "  </thead>\n",
       "  <tbody>\n",
       "    <tr>\n",
       "      <th>0</th>\n",
       "      <td>0</td>\n",
       "      <td>21.556524</td>\n",
       "      <td>15.148151</td>\n",
       "      <td>17.948151</td>\n",
       "      <td>19.456524</td>\n",
       "    </tr>\n",
       "    <tr>\n",
       "      <th>1</th>\n",
       "      <td>1</td>\n",
       "      <td>15.629082</td>\n",
       "      <td>13.197838</td>\n",
       "      <td>15.997838</td>\n",
       "      <td>13.529082</td>\n",
       "    </tr>\n",
       "    <tr>\n",
       "      <th>2</th>\n",
       "      <td>2</td>\n",
       "      <td>13.432723</td>\n",
       "      <td>11.173237</td>\n",
       "      <td>13.973237</td>\n",
       "      <td>11.332723</td>\n",
       "    </tr>\n",
       "    <tr>\n",
       "      <th>3</th>\n",
       "      <td>3</td>\n",
       "      <td>11.083018</td>\n",
       "      <td>8.916961</td>\n",
       "      <td>11.716961</td>\n",
       "      <td>8.983018</td>\n",
       "    </tr>\n",
       "    <tr>\n",
       "      <th>4</th>\n",
       "      <td>4</td>\n",
       "      <td>8.589046</td>\n",
       "      <td>6.636402</td>\n",
       "      <td>9.436402</td>\n",
       "      <td>6.489046</td>\n",
       "    </tr>\n",
       "  </tbody>\n",
       "</table>\n",
       "</div>"
      ],
      "text/plain": [
       "   epoch      loss2   val_loss  val_loss2       loss\n",
       "0      0  21.556524  15.148151  17.948151  19.456524\n",
       "1      1  15.629082  13.197838  15.997838  13.529082\n",
       "2      2  13.432723  11.173237  13.973237  11.332723\n",
       "3      3  11.083018   8.916961  11.716961   8.983018\n",
       "4      4   8.589046   6.636402   9.436402   6.489046"
      ]
     },
     "execution_count": 34,
     "metadata": {},
     "output_type": "execute_result"
    }
   ],
   "source": [
    "data7.head()"
   ]
  },
  {
   "cell_type": "code",
   "execution_count": 35,
   "metadata": {},
   "outputs": [
    {
     "data": {
      "image/png": "[encoded data removed]",
      "text/plain": [
       "<Figure size 1440x864 with 1 Axes>"
      ]
     },
     "metadata": {
      "needs_background": "light"
     },
     "output_type": "display_data"
    }
   ],
   "source": [
    "fig = plt.figure(figsize=(20,12))\n",
    "plt.plot(data7['loss'], label='loss')\n",
    "plt.plot(data7['val_loss'], label='val_loss')\n",
    "plt.legend(loc='upper right', prop={'size': 24})\n",
    "plt.show()"
   ]
  },
  {
   "cell_type": "code",
   "execution_count": 36,
   "metadata": {},
   "outputs": [
    {
     "data": {
      "image/png": "[encoded data removed]",
      "text/plain": [
       "<Figure size 1440x864 with 1 Axes>"
      ]
     },
     "metadata": {
      "needs_background": "light"
     },
     "output_type": "display_data"
    }
   ],
   "source": [
    "fig = plt.figure(figsize=(20,12))\n",
    "plt.plot(data300['loss'], label='loss')\n",
    "plt.plot(data300['val_loss'], label='val_loss')\n",
    "plt.legend(loc='upper right', prop={'size': 24})\n",
    "plt.show()"
   ]
  },
  {
   "cell_type": "code",
   "execution_count": null,
   "metadata": {},
   "outputs": [],
   "source": []
  },
  {
   "cell_type": "code",
   "execution_count": null,
   "metadata": {},
   "outputs": [],
   "source": []
  }
 ],
 "metadata": {
  "kernelspec": {
   "display_name": "Python 3",
   "language": "python",
   "name": "python3"
  },
  "language_info": {
   "codemirror_mode": {
    "name": "ipython",
    "version": 3
   },
   "file_extension": ".py",
   "mimetype": "text/x-python",
   "name": "python",
   "nbconvert_exporter": "python",
   "pygments_lexer": "ipython3",
   "version": "3.6.6"
  }
 },
 "nbformat": 4,
 "nbformat_minor": 2
}
